{
 "cells": [
  {
   "cell_type": "code",
   "execution_count": 63,
   "metadata": {},
   "outputs": [],
   "source": [
    "import numpy as np\n",
    "from itertools import combinations"
   ]
  },
  {
   "cell_type": "code",
   "execution_count": 64,
   "metadata": {},
   "outputs": [
    {
     "data": {
      "text/plain": [
       "<module 'Cards' from '/home/clark/Apps/durakula/game/Cards.py'>"
      ]
     },
     "execution_count": 64,
     "metadata": {},
     "output_type": "execute_result"
    }
   ],
   "source": [
    "from collections import deque\n",
    "from matplotlib import pyplot as plt\n",
    "import Field\n",
    "import Game\n",
    "import Agent\n",
    "import Cards\n",
    "from utils import * \n",
    "from importlib import reload\n",
    "from random import choice, shuffle\n",
    "\n",
    "reload(Field)\n",
    "reload(Game)\n",
    "reload(Agent)\n",
    "reload(Cards)"
   ]
  },
  {
   "cell_type": "code",
   "execution_count": 65,
   "metadata": {},
   "outputs": [],
   "source": [
    "numplayers = 4\n",
    "durak_game = Game.DurakGame(numplayers, 'small')"
   ]
  },
  {
   "cell_type": "code",
   "execution_count": 66,
   "metadata": {},
   "outputs": [
    {
     "name": "stdout",
     "output_type": "stream",
     "text": [
      "MODE_DEFEND\n",
      "MODE_WAIT\n",
      "MODE_WAIT\n",
      "MODE_ATTACK\n"
     ]
    }
   ],
   "source": [
    "for p in durak_game.players:\n",
    "    print(p.player_mode)"
   ]
  },
  {
   "cell_type": "code",
   "execution_count": 67,
   "metadata": {
    "scrolled": false
   },
   "outputs": [
    {
     "name": "stdout",
     "output_type": "stream",
     "text": [
      "--- Playing Field ---\n",
      "Drawing DurakDeck: --- Card Collection ---\n",
      "Cards: H6,H5,H7,S6,C2,S7,S2,C7,C6,D0,C0,D3.\n",
      "Size: 12\n",
      "-----------------------\n",
      "\n",
      "0:--- Card Collection ---\n",
      "Cards: D5,D7,C3,H2,S1,S3.\n",
      "Size: 6\n",
      "-----------------------\n",
      "\n",
      "1:--- Card Collection ---\n",
      "Cards: D6,D8,H1,H3,H8,S4.\n",
      "Size: 6\n",
      "-----------------------\n",
      "\n",
      "2:--- Card Collection ---\n",
      "Cards: D4,C1,C5,S0,S5,S8.\n",
      "Size: 6\n",
      "-----------------------\n",
      "\n",
      "3:--- Card Collection ---\n",
      "Cards: D1,D2,C4,C8,H0,H4.\n",
      "Size: 6\n",
      "-----------------------\n",
      "\n",
      "Trump suit is Diamonds\n",
      "---------------------\n",
      "\n"
     ]
    }
   ],
   "source": [
    "print(durak_game.playing_field)"
   ]
  },
  {
   "cell_type": "code",
   "execution_count": 68,
   "metadata": {
    "scrolled": false
   },
   "outputs": [
    {
     "name": "stdout",
     "output_type": "stream",
     "text": [
      "--- Card Collection ---\n",
      "Cards: D1,D2,C4,C8,H0,H4.\n",
      "Size: 6\n",
      "-----------------------\n",
      "\n"
     ]
    }
   ],
   "source": [
    "players_on_attack = [p.player_id for p in durak_game.playing_field.attack_players()]\n",
    "p_att_idx = players_on_attack[0]\n",
    "print(durak_game.players[p_att_idx].get_deck_from_hand())"
   ]
  },
  {
   "cell_type": "code",
   "execution_count": 69,
   "metadata": {
    "scrolled": true
   },
   "outputs": [
    {
     "name": "stdout",
     "output_type": "stream",
     "text": [
      "--- Card Collection ---\n",
      "Cards: D5,D7,C3,H2,S1,S3.\n",
      "Size: 6\n",
      "-----------------------\n",
      "\n"
     ]
    }
   ],
   "source": [
    "p_def_idx = durak_game.playing_field.defend_player().player_id\n",
    "print(durak_game.players[p_def_idx].get_deck_from_hand())"
   ]
  },
  {
   "cell_type": "code",
   "execution_count": 70,
   "metadata": {},
   "outputs": [
    {
     "data": {
      "text/plain": [
       "True"
      ]
     },
     "execution_count": 70,
     "metadata": {},
     "output_type": "execute_result"
    }
   ],
   "source": [
    "durak_game.playing_field.first_attack"
   ]
  },
  {
   "cell_type": "code",
   "execution_count": 71,
   "metadata": {},
   "outputs": [
    {
     "data": {
      "text/plain": [
       "[((1, 4),),\n",
       " ((1, 8),),\n",
       " ((2, 0),),\n",
       " ((2, 4),),\n",
       " ((3, 1),),\n",
       " ((3, 2),),\n",
       " ((1, 4), (2, 4))]"
      ]
     },
     "execution_count": 71,
     "metadata": {},
     "output_type": "execute_result"
    }
   ],
   "source": [
    "attack_moves = durak_game.playing_field.get_legal_moves(p_att_idx)\n",
    "attack_moves"
   ]
  },
  {
   "cell_type": "code",
   "execution_count": 72,
   "metadata": {},
   "outputs": [
    {
     "name": "stdout",
     "output_type": "stream",
     "text": [
      "((3, 1),)\n"
     ]
    }
   ],
   "source": [
    "random_move = choice(durak_game.playing_field.get_legal_moves(p_att_idx))\n",
    "print(random_move)"
   ]
  },
  {
   "cell_type": "code",
   "execution_count": 73,
   "metadata": {
    "scrolled": true
   },
   "outputs": [
    {
     "data": {
      "text/plain": [
       "<matplotlib.image.AxesImage at 0x7f4b0f44e4d0>"
      ]
     },
     "execution_count": 73,
     "metadata": {},
     "output_type": "execute_result"
    },
    {
     "data": {
      "image/png": "[encoded data removed]",
      "text/plain": [
       "<Figure size 432x288 with 1 Axes>"
      ]
     },
     "metadata": {
      "needs_background": "light"
     },
     "output_type": "display_data"
    }
   ],
   "source": [
    "durak_game.playing_field.execute_move(random_move, p_att_idx)\n",
    "plt.imshow(durak_game.playing_field.attacks)"
   ]
  },
  {
   "cell_type": "code",
   "execution_count": 74,
   "metadata": {
    "scrolled": true
   },
   "outputs": [
    {
     "data": {
      "text/plain": [
       "<matplotlib.image.AxesImage at 0x7f4b0f3bff90>"
      ]
     },
     "execution_count": 74,
     "metadata": {},
     "output_type": "execute_result"
    },
    {
     "data": {
      "image/png": "[encoded data removed]",
      "text/plain": [
       "<Figure size 432x288 with 1 Axes>"
      ]
     },
     "metadata": {
      "needs_background": "light"
     },
     "output_type": "display_data"
    }
   ],
   "source": [
    "plt.imshow(durak_game.players[p_def_idx].hand)"
   ]
  },
  {
   "cell_type": "code",
   "execution_count": 75,
   "metadata": {},
   "outputs": [
    {
     "name": "stdout",
     "output_type": "stream",
     "text": [
      "[((1, 28),), ((3, 28),), ((32, 28),), ((34, 28),)]\n"
     ]
    }
   ],
   "source": [
    "defend_actions = durak_game.playing_field.get_legal_moves(p_def_idx)\n",
    "print(defend_actions)"
   ]
  },
  {
   "cell_type": "code",
   "execution_count": 76,
   "metadata": {},
   "outputs": [
    {
     "name": "stdout",
     "output_type": "stream",
     "text": [
      "((1, 28),)\n"
     ]
    }
   ],
   "source": [
    "random_defend = choice(defend_actions)\n",
    "print(random_defend)"
   ]
  },
  {
   "cell_type": "code",
   "execution_count": 77,
   "metadata": {
    "scrolled": false
   },
   "outputs": [
    {
     "data": {
      "text/plain": [
       "<matplotlib.image.AxesImage at 0x7f4b0f339390>"
      ]
     },
     "execution_count": 77,
     "metadata": {},
     "output_type": "execute_result"
    },
    {
     "data": {
      "image/png": "[encoded data removed]",
      "text/plain": [
       "<Figure size 432x288 with 1 Axes>"
      ]
     },
     "metadata": {
      "needs_background": "light"
     },
     "output_type": "display_data"
    }
   ],
   "source": [
    "durak_game.get_next_state(random_defend, p_def_idx)\n",
    "plt.imshow(durak_game.playing_field.field)"
   ]
  },
  {
   "cell_type": "code",
   "execution_count": 78,
   "metadata": {
    "scrolled": true
   },
   "outputs": [
    {
     "data": {
      "text/plain": [
       "<matplotlib.image.AxesImage at 0x7f4b0f2a8690>"
      ]
     },
     "execution_count": 78,
     "metadata": {},
     "output_type": "execute_result"
    },
    {
     "data": {
      "image/png": "[encoded data removed]",
      "text/plain": [
       "<Figure size 432x288 with 1 Axes>"
      ]
     },
     "metadata": {
      "needs_background": "light"
     },
     "output_type": "display_data"
    }
   ],
   "source": [
    "plt.imshow(durak_game.players[p_att_idx].hand)"
   ]
  },
  {
   "cell_type": "code",
   "execution_count": 79,
   "metadata": {},
   "outputs": [
    {
     "data": {
      "text/plain": [
       "<matplotlib.image.AxesImage at 0x7f4b0f28a650>"
      ]
     },
     "execution_count": 79,
     "metadata": {},
     "output_type": "execute_result"
    },
    {
     "data": {
      "image/png": "[encoded data removed]",
      "text/plain": [
       "<Figure size 432x288 with 1 Axes>"
      ]
     },
     "metadata": {
      "needs_background": "light"
     },
     "output_type": "display_data"
    }
   ],
   "source": [
    "plt.imshow(durak_game.players[p_def_idx].hand)"
   ]
  },
  {
   "cell_type": "code",
   "execution_count": 80,
   "metadata": {},
   "outputs": [
    {
     "name": "stdout",
     "output_type": "stream",
     "text": [
      "MODE_ATTACK\n",
      "MODE_DEFEND\n",
      "MODE_ATTACK\n",
      "MODE_ATTACK\n"
     ]
    }
   ],
   "source": [
    "for p in durak_game.players:\n",
    "    print(p.player_mode)"
   ]
  },
  {
   "cell_type": "code",
   "execution_count": null,
   "metadata": {},
   "outputs": [],
   "source": []
  }
 ],
 "metadata": {
  "kernelspec": {
   "display_name": "Python 3",
   "language": "python",
   "name": "python3"
  },
  "language_info": {
   "codemirror_mode": {
    "name": "ipython",
    "version": 3
   },
   "file_extension": ".py",
   "mimetype": "text/x-python",
   "name": "python",
   "nbconvert_exporter": "python",
   "pygments_lexer": "ipython3",
   "version": "3.7.6"
  }
 },
 "nbformat": 4,
 "nbformat_minor": 4
}
