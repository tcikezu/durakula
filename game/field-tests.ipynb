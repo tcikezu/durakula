{
 "cells": [
  {
   "cell_type": "code",
   "execution_count": 171,
   "metadata": {},
   "outputs": [],
   "source": [
    "import numpy as np\n",
    "from itertools import combinations\n",
    "import copy\n",
    "import random"
   ]
  },
  {
   "cell_type": "code",
   "execution_count": 172,
   "metadata": {
    "scrolled": false
   },
   "outputs": [
    {
     "data": {
      "text/plain": [
       "<module 'Cards' from '/home/clark/Apps/durakula/game/Cards.py'>"
      ]
     },
     "execution_count": 172,
     "metadata": {},
     "output_type": "execute_result"
    }
   ],
   "source": [
    "from collections import deque\n",
    "from matplotlib import pyplot as plt\n",
    "import Field\n",
    "import Game\n",
    "import Agent\n",
    "import Cards\n",
    "from utils import * \n",
    "from importlib import reload\n",
    "from random import choice, shuffle\n",
    "\n",
    "reload(Field)\n",
    "reload(Game)\n",
    "reload(Agent)\n",
    "reload(Cards)"
   ]
  },
  {
   "cell_type": "markdown",
   "metadata": {},
   "source": [
    "# Testing Cards functionality\n",
    "## Card Class"
   ]
  },
  {
   "cell_type": "code",
   "execution_count": 137,
   "metadata": {},
   "outputs": [
    {
     "name": "stdout",
     "output_type": "stream",
     "text": [
      "Card Class - test 1\n",
      "\n",
      "7 of Spades\n",
      "Spades 7\n",
      "3 5\n",
      "S5\n"
     ]
    }
   ],
   "source": [
    "print('Card Class - test 1\\n')\n",
    "s=3\n",
    "v=5\n",
    "a_card = Cards.Card(s,v)\n",
    "print(a_card)\n",
    "print(a_card.suit, a_card.value)\n",
    "print(a_card.suit_idx, a_card.value_idx)\n",
    "print(Cards._CARD_MAP_FULL[s,v])"
   ]
  },
  {
   "cell_type": "code",
   "execution_count": 138,
   "metadata": {},
   "outputs": [
    {
     "name": "stdout",
     "output_type": "stream",
     "text": [
      "Card Class - test 2\n",
      "\n",
      "[D0, D1, D2, D3, D4, D5, D6, D7, D8, D9, D10, D11, D12, C0, C1, C2, C3, C4, C5, C6, C7, C8, C9, C10, C11, C12, H0, H1, H2, H3, H4, H5, H6, H7, H8, H9, H10, H11, H12, S0, S1, S2, S3, S4, S5, S6, S7, S8, S9, S10, S11, S12]\n",
      "['2 of Diamonds', '3 of Diamonds', '4 of Diamonds', '5 of Diamonds', '6 of Diamonds', '7 of Diamonds', '8 of Diamonds', '9 of Diamonds', '10 of Diamonds', 'Jack of Diamonds', 'Queen of Diamonds', 'King of Diamonds', 'Ace of Diamonds', '2 of Clubs', '3 of Clubs', '4 of Clubs', '5 of Clubs', '6 of Clubs', '7 of Clubs', '8 of Clubs', '9 of Clubs', '10 of Clubs', 'Jack of Clubs', 'Queen of Clubs', 'King of Clubs', 'Ace of Clubs', '2 of Hearts', '3 of Hearts', '4 of Hearts', '5 of Hearts', '6 of Hearts', '7 of Hearts', '8 of Hearts', '9 of Hearts', '10 of Hearts', 'Jack of Hearts', 'Queen of Hearts', 'King of Hearts', 'Ace of Hearts', '2 of Spades', '3 of Spades', '4 of Spades', '5 of Spades', '6 of Spades', '7 of Spades', '8 of Spades', '9 of Spades', '10 of Spades', 'Jack of Spades', 'Queen of Spades', 'King of Spades', 'Ace of Spades']\n"
     ]
    }
   ],
   "source": [
    "print('Card Class - test 2\\n')\n",
    "all_cards = [Cards.Card(s,v) for s in range(4) for v in range(13)]\n",
    "print(all_cards)\n",
    "print([str(card) for card in all_cards])"
   ]
  },
  {
   "cell_type": "markdown",
   "metadata": {},
   "source": [
    "## CardCollection class"
   ]
  },
  {
   "cell_type": "code",
   "execution_count": 139,
   "metadata": {
    "scrolled": false
   },
   "outputs": [
    {
     "name": "stdout",
     "output_type": "stream",
     "text": [
      "CardCollection - test 1\n",
      "\n",
      "Create a full deck A\n",
      "\n",
      "A --- Card Collection ---\n",
      "Cards: D0,D1,D2,D3,D4,D5,D6,D7,D8,D9,D10,D11,D12,C0,C1,C2,C3,C4,C5,C6,C7,C8,C9,C10,C11,C12,H0,H1,H2,H3,H4,H5,H6,H7,H8,H9,H10,H11,H12,S0,S1,S2,S3,S4,S5,S6,S7,S8,S9,S10,S11,S12.\n",
      "Size: 52\n",
      "-----------------------\n",
      "\n",
      "[[1 1 1 1 1 1 1 1 1 1 1 1 1]\n",
      " [1 1 1 1 1 1 1 1 1 1 1 1 1]\n",
      " [1 1 1 1 1 1 1 1 1 1 1 1 1]\n",
      " [1 1 1 1 1 1 1 1 1 1 1 1 1]]\n",
      "\n",
      "Create B = copy.copy(A)\n",
      "Create C = copy.deepcopy(A)\n",
      "\n",
      "-----------Shuffling A -------------\n",
      "\n",
      "A --- Card Collection ---\n",
      "Cards: H12,C9,H10,D6,H8,S12,H9,S2,C12,H3,S11,C5,C3,C0,S10,D0,S4,S6,S5,C8,D4,H6,D10,D1,D2,H0,S3,H4,D3,C1,C2,S0,C4,C6,H11,H5,C10,D5,H2,S7,H7,S9,S8,C11,C7,D7,D8,D9,S1,D12,D11,H1.\n",
      "Size: 52\n",
      "-----------------------\n",
      "\n",
      "[[1 1 1 1 1 1 1 1 1 1 1 1 1]\n",
      " [1 1 1 1 1 1 1 1 1 1 1 1 1]\n",
      " [1 1 1 1 1 1 1 1 1 1 1 1 1]\n",
      " [1 1 1 1 1 1 1 1 1 1 1 1 1]]\n",
      "\n",
      "\n",
      "B == A:  True\n",
      "------------------------\n",
      "B --- Card Collection ---\n",
      "Cards: H12,C9,H10,D6,H8,S12,H9,S2,C12,H3,S11,C5,C3,C0,S10,D0,S4,S6,S5,C8,D4,H6,D10,D1,D2,H0,S3,H4,D3,C1,C2,S0,C4,C6,H11,H5,C10,D5,H2,S7,H7,S9,S8,C11,C7,D7,D8,D9,S1,D12,D11,H1.\n",
      "Size: 52\n",
      "-----------------------\n",
      "\n",
      "C == A:  False\n",
      "C --- Card Collection ---\n",
      "Cards: D0,D1,D2,D3,D4,D5,D6,D7,D8,D9,D10,D11,D12,C0,C1,C2,C3,C4,C5,C6,C7,C8,C9,C10,C11,C12,H0,H1,H2,H3,H4,H5,H6,H7,H8,H9,H10,H11,H12,S0,S1,S2,S3,S4,S5,S6,S7,S8,S9,S10,S11,S12.\n",
      "Size: 52\n",
      "-----------------------\n",
      "\n"
     ]
    }
   ],
   "source": [
    "print('CardCollection - test 1\\n')\n",
    "print('Create a full deck A\\n')\n",
    "a_deck = Cards.CardCollection()\n",
    "print('A', a_deck)\n",
    "print(a_deck.cards)\n",
    "\n",
    "b_deck = copy.copy(a_deck)\n",
    "c_deck = copy.deepcopy(a_deck)\n",
    "print('\\nCreate B = copy.copy(A)')\n",
    "print('Create C = copy.deepcopy(A)\\n')\n",
    "\n",
    "print('-----------Shuffling A -------------\\n')\n",
    "shuffle(a_deck)\n",
    "\n",
    "print('A', a_deck)\n",
    "print(a_deck.cards)\n",
    "print('\\n')\n",
    "\n",
    "print('B == A: ', b_deck == a_deck)\n",
    "print('------------------------')\n",
    "print('B', b_deck)\n",
    "\n",
    "print('C == A: ', c_deck == a_deck)\n",
    "print('C', c_deck)"
   ]
  },
  {
   "cell_type": "code",
   "execution_count": 140,
   "metadata": {
    "scrolled": false
   },
   "outputs": [
    {
     "name": "stdout",
     "output_type": "stream",
     "text": [
      "CardCollection - test 2\n",
      "\n",
      "Create full deck A\n",
      "\n",
      "A --- Card Collection ---\n",
      "Cards: D4,C7,S2,H7,S6,D1,S1,S7,H1,S5,H2,C6,C0,H5,C4,C5,S3,H4,D0,C3,C1,S8,D6,D2,C2,H3,D8,C8,H6,D7,H0,D3,S4,H8,S0,D5.\n",
      "Size: 36\n",
      "-----------------------\n",
      "\n",
      "Create B -- a copy of A which is then emptied\n",
      "\n",
      "B --- Card Collection ---\n",
      "Cards: .\n",
      "Size: 0\n",
      "-----------------------\n",
      "\n",
      "Draw 1 card from A, add to B\n",
      "\n",
      "A --- Card Collection ---\n",
      "Cards: C7,S2,H7,S6,D1,S1,S7,H1,S5,H2,C6,C0,H5,C4,C5,S3,H4,D0,C3,C1,S8,D6,D2,C2,H3,D8,C8,H6,D7,H0,D3,S4,H8,S0,D5.\n",
      "Size: 35\n",
      "-----------------------\n",
      "\n",
      "B --- Card Collection ---\n",
      "Cards: D4.\n",
      "Size: 1\n",
      "-----------------------\n",
      "\n",
      "Draw another card from A, add to B\n",
      "\n",
      "A --- Card Collection ---\n",
      "Cards: S2,H7,S6,D1,S1,S7,H1,S5,H2,C6,C0,H5,C4,C5,S3,H4,D0,C3,C1,S8,D6,D2,C2,H3,D8,C8,H6,D7,H0,D3,S4,H8,S0,D5.\n",
      "Size: 34\n",
      "-----------------------\n",
      "\n",
      "B --- Card Collection ---\n",
      "Cards: C7,D4.\n",
      "Size: 2\n",
      "-----------------------\n",
      "\n",
      "Draw 60 cards from A, add to B\n",
      "\n",
      "A --- Card Collection ---\n",
      "Cards: .\n",
      "Size: 0\n",
      "-----------------------\n",
      "\n",
      "B --- Card Collection ---\n",
      "Cards: D5,S0,H8,S4,D3,H0,D7,H6,C8,D8,H3,C2,D2,D6,S8,C1,C3,D0,H4,S3,C5,C4,H5,C0,C6,H2,S5,H1,S7,S1,D1,S6,H7,S2,C7,D4.\n",
      "Size: 36\n",
      "-----------------------\n",
      "\n",
      "A.cards\n",
      " [[0 0 0 0 0 0 0 0 0]\n",
      " [0 0 0 0 0 0 0 0 0]\n",
      " [0 0 0 0 0 0 0 0 0]\n",
      " [0 0 0 0 0 0 0 0 0]]\n",
      "B.cards\n",
      " [[1 1 1 1 1 1 1 1 1]\n",
      " [1 1 1 1 1 1 1 1 1]\n",
      " [1 1 1 1 1 1 1 1 1]\n",
      " [1 1 1 1 1 1 1 1 1]]\n"
     ]
    }
   ],
   "source": [
    "print('CardCollection - test 2\\n')\n",
    "\n",
    "print('Create full deck A\\n')\n",
    "a_deck = Cards.CardCollection(4,9)\n",
    "b_deck = copy.deepcopy(a_deck)\n",
    "b_deck.empty()\n",
    "shuffle(a_deck)\n",
    "print('A', a_deck)\n",
    "\n",
    "print('Create B -- a copy of A which is then emptied\\n')\n",
    "print('B', b_deck)\n",
    "\n",
    "print('Draw 1 card from A, add to B\\n')\n",
    "b_deck = a_deck.draw_card(1)\n",
    "print('A', a_deck)\n",
    "print('B', b_deck)\n",
    "\n",
    "print('Draw another card from A, add to B\\n')\n",
    "b_deck += a_deck.draw_card(1)\n",
    "\n",
    "print('A', a_deck)\n",
    "print('B', b_deck)\n",
    "\n",
    "print('Draw 60 cards from A, add to B\\n')\n",
    "b_deck += a_deck.draw_card(60)\n",
    "\n",
    "print('A', a_deck)\n",
    "print('B', b_deck)\n",
    "print('A.cards\\n', a_deck.cards)\n",
    "print('B.cards\\n', b_deck.cards)"
   ]
  },
  {
   "cell_type": "code",
   "execution_count": 141,
   "metadata": {},
   "outputs": [
    {
     "name": "stdout",
     "output_type": "stream",
     "text": [
      "CardCollection test 3\n",
      "\n",
      "Draw from an empty deck\n",
      "\n",
      "A: --- Card Collection ---\n",
      "Cards: .\n",
      "Size: 0\n",
      "-----------------------\n",
      "\n",
      "B: --- Card Collection ---\n",
      "Cards: .\n",
      "Size: 0\n",
      "-----------------------\n",
      "\n"
     ]
    }
   ],
   "source": [
    "print('CardCollection test 3\\n')\n",
    "print('Draw from an empty deck\\n')\n",
    "a_deck = Cards.CardCollection()\n",
    "a_deck.empty()\n",
    "b_deck = a_deck.draw_card(3)\n",
    "\n",
    "print('A:', a_deck)\n",
    "print('B:', b_deck)"
   ]
  },
  {
   "cell_type": "markdown",
   "metadata": {},
   "source": [
    "## DurakDeck Class"
   ]
  },
  {
   "cell_type": "code",
   "execution_count": 154,
   "metadata": {},
   "outputs": [
    {
     "name": "stdout",
     "output_type": "stream",
     "text": [
      "DurakDeck: test 1\n",
      "\n",
      "Create a deck in small mode\n",
      "\n",
      "--- Card Collection ---\n",
      "Cards: D0,D1,D2,D3,D4,D5,D6,D7,D8,C0,C1,C2,C3,C4,C5,C6,C7,C8,H0,H1,H2,H3,H4,H5,H6,H7,H8,S0,S1,S2,S3,S4,S5,S6,S7,S8.\n",
      "Size: 36\n",
      "-----------------------\n",
      "\n",
      "Create a deck in full mode\n",
      "\n",
      "--- Card Collection ---\n",
      "Cards: D0,D1,D2,D3,D4,D5,D6,D7,D8,D9,D10,D11,D12,C0,C1,C2,C3,C4,C5,C6,C7,C8,C9,C10,C11,C12,H0,H1,H2,H3,H4,H5,H6,H7,H8,H9,H10,H11,H12,S0,S1,S2,S3,S4,S5,S6,S7,S8,S9,S10,S11,S12.\n",
      "Size: 52\n",
      "-----------------------\n",
      "\n",
      "Create a deck in with preset cards\n",
      "\n",
      "--- Card Collection ---\n",
      "Cards: D0,D1,D2,D3,D4,D5,D6,D7,D8,C0,C1,C2.\n",
      "Size: 12\n",
      "-----------------------\n",
      "\n"
     ]
    }
   ],
   "source": [
    "print('DurakDeck: test 1\\n')\n",
    "\n",
    "small_deck = Cards.DurakDeck(mode='small')\n",
    "full_deck = Cards.DurakDeck(mode='full')\n",
    "\n",
    "a_deck = Cards.DurakDeck()\n",
    "b_deck = a_deck.draw_card(12)\n",
    "set_deck = Cards.DurakDeck(cards=b_deck.cards)\n",
    "\n",
    "print('Create a deck in small mode\\n')\n",
    "print(small_deck)\n",
    "\n",
    "print('Create a deck in full mode\\n')\n",
    "print(full_deck)\n",
    "\n",
    "print('Create a deck in with preset cards\\n')\n",
    "print(set_deck)"
   ]
  },
  {
   "cell_type": "code",
   "execution_count": 143,
   "metadata": {},
   "outputs": [
    {
     "name": "stdout",
     "output_type": "stream",
     "text": [
      "DurakDeck: test 2\n",
      "\n",
      "Draw 1 card from small deck.\n",
      "\n",
      "--- Card Collection ---\n",
      "Cards: D1,D2,D3,D4,D5,D6,D7,D8,C0,C1,C2,C3,C4,C5,C6,C7,C8,H0,H1,H2,H3,H4,H5,H6,H7,H8,S0,S1,S2,S3,S4,S5,S6,S7,S8.\n",
      "Size: 35\n",
      "-----------------------\n",
      "\n",
      "Draw 2 cards from above small deck.\n",
      "\n",
      "--- Card Collection ---\n",
      "Cards: D3,D4,D5,D6,D7,D8,C0,C1,C2,C3,C4,C5,C6,C7,C8,H0,H1,H2,H3,H4,H5,H6,H7,H8,S0,S1,S2,S3,S4,S5,S6,S7,S8.\n",
      "Size: 33\n",
      "-----------------------\n",
      "\n",
      "Draw 6 cards from above small deck.\n",
      "\n",
      "--- Card Collection ---\n",
      "Cards: C0,C1,C2,C3,C4,C5,C6,C7,C8,H0,H1,H2,H3,H4,H5,H6,H7,H8,S0,S1,S2,S3,S4,S5,S6,S7,S8.\n",
      "Size: 27\n",
      "-----------------------\n",
      "\n",
      "Draw 50 cards from above small deck.\n",
      "\n",
      "--- Card Collection ---\n",
      "Cards: .\n",
      "Size: 0\n",
      "-----------------------\n",
      "\n"
     ]
    }
   ],
   "source": [
    "print('DurakDeck: test 2\\n')\n",
    "small_deck = Cards.DurakDeck(mode='small')\n",
    "print('Draw 1 card from small deck.\\n')\n",
    "small_deck.draw_card(1)\n",
    "print(small_deck)\n",
    "\n",
    "print('Draw 2 cards from above small deck.\\n')\n",
    "small_deck.draw_card(2)\n",
    "print(small_deck)\n",
    "\n",
    "print('Draw 6 cards from above small deck.\\n')\n",
    "small_deck.draw_card(6)\n",
    "print(small_deck)\n",
    "\n",
    "print('Draw 50 cards from above small deck.\\n')\n",
    "small_deck.draw_card(50)\n",
    "print(small_deck)"
   ]
  },
  {
   "cell_type": "markdown",
   "metadata": {},
   "source": [
    "## DurakHand Class"
   ]
  },
  {
   "cell_type": "code",
   "execution_count": 166,
   "metadata": {
    "scrolled": true
   },
   "outputs": [
    {
     "name": "stdout",
     "output_type": "stream",
     "text": [
      "DurakHand test 1\n",
      "\n",
      "Testing __init__\n",
      "\n",
      "<Cards.DurakHand object at 0x7f43c9c8d590>\n",
      "[[0 0 0 0 0 0 0 0 0]\n",
      " [0 0 0 0 0 0 0 0 0]\n",
      " [0 0 0 0 0 0 0 0 0]\n",
      " [1 1 1 1 1 1 0 0 0]]\n",
      "trump suit:  Spades\n",
      "--- Card Collection ---\n",
      "Cards: D6,D7,D8,C0,C1,C2,C3,C4,C5,C6,C7,C8,H0,H1,H2,H3,H4,H5,H6,H7,H8,S0,S1,S2,S3,S4,S5,S6,S7,S8.\n",
      "Size: 30\n",
      "-----------------------\n",
      "\n"
     ]
    }
   ],
   "source": [
    "print('DurakHand test 1\\n')\n",
    "print('Testing __init__\\n')\n",
    "small_deck = Cards.DurakDeck()\n",
    "a_hand = Cards.DurakHand(small_deck)\n",
    "print(a_hand)\n",
    "print(a_hand.hand)\n",
    "print('trump suit: ', a_hand.trump_suit)\n",
    "print(small_deck)"
   ]
  },
  {
   "cell_type": "code",
   "execution_count": 170,
   "metadata": {},
   "outputs": [
    {
     "name": "stdout",
     "output_type": "stream",
     "text": [
      "DurakHand test 2\n",
      "\n",
      "Create a hand from an empty deck\n",
      "\n"
     ]
    },
    {
     "ename": "NameError",
     "evalue": "name 'ValeError' is not defined",
     "output_type": "error",
     "traceback": [
      "\u001b[0;31m---------------------------------------------------------------------------\u001b[0m",
      "\u001b[0;31mNameError\u001b[0m                                 Traceback (most recent call last)",
      "\u001b[0;32m<ipython-input-170-a7a67a92499c>\u001b[0m in \u001b[0;36m<module>\u001b[0;34m\u001b[0m\n\u001b[1;32m      2\u001b[0m \u001b[0mprint\u001b[0m\u001b[0;34m(\u001b[0m\u001b[0;34m'Create a hand from an empty deck\\n'\u001b[0m\u001b[0;34m)\u001b[0m\u001b[0;34m\u001b[0m\u001b[0;34m\u001b[0m\u001b[0m\n\u001b[1;32m      3\u001b[0m \u001b[0mempty_deck\u001b[0m \u001b[0;34m=\u001b[0m \u001b[0msmall_deck\u001b[0m\u001b[0;34m.\u001b[0m\u001b[0mdraw_card\u001b[0m\u001b[0;34m(\u001b[0m\u001b[0;36m0\u001b[0m\u001b[0;34m)\u001b[0m\u001b[0;34m\u001b[0m\u001b[0;34m\u001b[0m\u001b[0m\n\u001b[0;32m----> 4\u001b[0;31m \u001b[0ma_hand\u001b[0m \u001b[0;34m=\u001b[0m \u001b[0mCards\u001b[0m\u001b[0;34m.\u001b[0m\u001b[0mDurakHand\u001b[0m\u001b[0;34m(\u001b[0m\u001b[0mempty_deck\u001b[0m\u001b[0;34m)\u001b[0m\u001b[0;34m\u001b[0m\u001b[0;34m\u001b[0m\u001b[0m\n\u001b[0m\u001b[1;32m      5\u001b[0m \u001b[0mprint\u001b[0m\u001b[0;34m(\u001b[0m\u001b[0ma_hand\u001b[0m\u001b[0;34m)\u001b[0m\u001b[0;34m\u001b[0m\u001b[0;34m\u001b[0m\u001b[0m\n\u001b[1;32m      6\u001b[0m \u001b[0mprint\u001b[0m\u001b[0;34m(\u001b[0m\u001b[0ma_hand\u001b[0m\u001b[0;34m.\u001b[0m\u001b[0mhand\u001b[0m\u001b[0;34m)\u001b[0m\u001b[0;34m\u001b[0m\u001b[0;34m\u001b[0m\u001b[0m\n",
      "\u001b[0;32m~/Apps/durakula/game/Cards.py\u001b[0m in \u001b[0;36m__init__\u001b[0;34m(self, deck)\u001b[0m\n\u001b[1;32m    127\u001b[0m             \u001b[0mself\u001b[0m\u001b[0;34m.\u001b[0m\u001b[0mtrump_idx\u001b[0m \u001b[0;34m=\u001b[0m \u001b[0;36m0\u001b[0m\u001b[0;34m\u001b[0m\u001b[0;34m\u001b[0m\u001b[0m\n\u001b[1;32m    128\u001b[0m             \u001b[0mself\u001b[0m\u001b[0;34m.\u001b[0m\u001b[0mtrump_suit\u001b[0m \u001b[0;34m=\u001b[0m \u001b[0;36m0\u001b[0m\u001b[0;34m\u001b[0m\u001b[0;34m\u001b[0m\u001b[0m\n\u001b[0;32m--> 129\u001b[0;31m             \u001b[0;32mraise\u001b[0m \u001b[0mValeError\u001b[0m\u001b[0;34m(\u001b[0m\u001b[0;34m\"Attempted to create hand from an empty deck\"\u001b[0m\u001b[0;34m)\u001b[0m\u001b[0;34m\u001b[0m\u001b[0;34m\u001b[0m\u001b[0m\n\u001b[0m\u001b[1;32m    130\u001b[0m         \u001b[0mmy_deck\u001b[0m \u001b[0;34m=\u001b[0m \u001b[0mdeck\u001b[0m\u001b[0;34m.\u001b[0m\u001b[0mdraw_card\u001b[0m\u001b[0;34m(\u001b[0m\u001b[0;36m6\u001b[0m\u001b[0;34m)\u001b[0m\u001b[0;34m\u001b[0m\u001b[0;34m\u001b[0m\u001b[0m\n\u001b[1;32m    131\u001b[0m         \u001b[0mself\u001b[0m\u001b[0;34m.\u001b[0m\u001b[0mhand\u001b[0m \u001b[0;34m=\u001b[0m \u001b[0mnp\u001b[0m\u001b[0;34m.\u001b[0m\u001b[0mzeros_like\u001b[0m\u001b[0;34m(\u001b[0m\u001b[0mmy_deck\u001b[0m\u001b[0;34m.\u001b[0m\u001b[0mcards\u001b[0m\u001b[0;34m)\u001b[0m\u001b[0;34m.\u001b[0m\u001b[0mastype\u001b[0m\u001b[0;34m(\u001b[0m\u001b[0mint\u001b[0m\u001b[0;34m)\u001b[0m\u001b[0;34m\u001b[0m\u001b[0;34m\u001b[0m\u001b[0m\n",
      "\u001b[0;31mNameError\u001b[0m: name 'ValeError' is not defined"
     ]
    }
   ],
   "source": [
    "print('DurakHand test 2\\n')\n",
    "print('Create a hand from an empty deck\\n')\n",
    "empty_deck = small_deck.draw_card(0)\n",
    "a_hand = Cards.DurakHand(empty_deck)\n",
    "print(a_hand)\n",
    "print(a_hand.hand)\n",
    "print('trump suit: ', a_hand.trump_suit)\n",
    "print(a_hand.get_deck_from_hand())"
   ]
  },
  {
   "cell_type": "code",
   "execution_count": 145,
   "metadata": {},
   "outputs": [
    {
     "name": "stdout",
     "output_type": "stream",
     "text": [
      "DurakHand test 2\n",
      "\n",
      "<Cards.DurakHand object at 0x7f43c98237d0>\n",
      "[[0 0 0 0 0 0 0 0 0]\n",
      " [0 0 0 0 0 0 0 0 0]\n",
      " [0 0 0 0 0 0 0 0 0]\n",
      " [1 1 1 1 1 1 0 0 0]]\n",
      "--- Card Collection ---\n",
      "Cards: D6,D7,D8,C0,C1,C2,C3,C4,C5,C6,C7,C8,H0,H1,H2,H3,H4,H5,H6,H7,H8,S0,S1,S2,S3,S4,S5,S6,S7,S8.\n",
      "Size: 30\n",
      "-----------------------\n",
      "\n",
      "--- Card Collection ---\n",
      "Cards: D0,D1,D2,D3,D4,D5.\n",
      "Size: 6\n",
      "-----------------------\n",
      "\n"
     ]
    }
   ],
   "source": [
    "print('DurakHand test 2\\n')\n",
    "small_deck = Cards.DurakDeck()\n",
    "a_hand = Cards.DurakHand(small_deck)\n",
    "print(a_hand)\n",
    "print(a_hand.hand)\n",
    "print(small_deck)\n",
    "print(a_hand.get_deck_from_hand())"
   ]
  },
  {
   "cell_type": "code",
   "execution_count": 146,
   "metadata": {
    "scrolled": true
   },
   "outputs": [
    {
     "name": "stdout",
     "output_type": "stream",
     "text": [
      "DurakHand test 3\n",
      "\n",
      "[[0 0 0 0 0 0 0 0 0]\n",
      " [1 1 1 1 1 1 1 0 0]\n",
      " [0 0 0 0 0 0 0 0 0]\n",
      " [1 1 1 1 1 1 1 1 1]]\n",
      "--- Card Collection ---\n",
      "Cards: D0,D1,D2,D3,D4,D5,D6,D7,D8,C0,C1,C2,C3,C4,C5,C6.\n",
      "Size: 16\n",
      "-----------------------\n",
      "\n"
     ]
    }
   ],
   "source": [
    "print('DurakHand test 3\\n')\n",
    "a_hand.get_hand_from_deck(small_deck.draw_card(10))\n",
    "print(a_hand.hand)\n",
    "print(a_hand.get_deck_from_hand())"
   ]
  },
  {
   "cell_type": "markdown",
   "metadata": {},
   "source": [
    "# Testing Game Functionality"
   ]
  },
  {
   "cell_type": "code",
   "execution_count": 44,
   "metadata": {},
   "outputs": [],
   "source": [
    "numplayers = 5\n",
    "durak_game = Game.DurakGame(numplayers, 'full')"
   ]
  },
  {
   "cell_type": "code",
   "execution_count": 45,
   "metadata": {
    "scrolled": false
   },
   "outputs": [
    {
     "name": "stdout",
     "output_type": "stream",
     "text": [
      "--- Playing Field ---\n",
      "Drawing DurakDeck: --- Card Collection ---\n",
      "Cards: S4,H3,H7,H10,D1,H12,D3,S10,S1,D8,S11,C5,C1,H11,H8,D4,C11,H9,D10,S0,C2,H0.\n",
      "Size: 22\n",
      "-----------------------\n",
      "\n",
      "0:--- Card Collection ---\n",
      "Cards: D2,C0,H1,H6,S2,S3.\n",
      "Size: 6\n",
      "-----------------------\n",
      "\n",
      "1:--- Card Collection ---\n",
      "Cards: C3,C8,H5,S6,S8,S12.\n",
      "Size: 6\n",
      "-----------------------\n",
      "\n",
      "2:--- Card Collection ---\n",
      "Cards: D9,D11,D12,C6,C10,H2.\n",
      "Size: 6\n",
      "-----------------------\n",
      "\n",
      "3:--- Card Collection ---\n",
      "Cards: D0,D5,H4,S5,S7,S9.\n",
      "Size: 6\n",
      "-----------------------\n",
      "\n",
      "4:--- Card Collection ---\n",
      "Cards: D6,D7,C4,C7,C9,C12.\n",
      "Size: 6\n",
      "-----------------------\n",
      "\n",
      "Trump suit is Hearts\n",
      "---------------------\n",
      "\n"
     ]
    }
   ],
   "source": [
    "print(durak_game.playing_field)"
   ]
  },
  {
   "cell_type": "code",
   "execution_count": 48,
   "metadata": {},
   "outputs": [
    {
     "data": {
      "text/plain": [
       "True"
      ]
     },
     "execution_count": 48,
     "metadata": {},
     "output_type": "execute_result"
    }
   ],
   "source": [
    "durak_game.playing_field.first_attack"
   ]
  },
  {
   "cell_type": "code",
   "execution_count": 49,
   "metadata": {
    "scrolled": true
   },
   "outputs": [
    {
     "data": {
      "text/plain": [
       "<matplotlib.image.AxesImage at 0x7f6ba92520d0>"
      ]
     },
     "execution_count": 49,
     "metadata": {},
     "output_type": "execute_result"
    },
    {
     "data": {
      "image/png": "[encoded data removed]",
      "text/plain": [
       "<Figure size 432x288 with 1 Axes>"
      ]
     },
     "metadata": {
      "needs_background": "light"
     },
     "output_type": "display_data"
    }
   ],
   "source": [
    "plt.imshow(durak_game.playing_field.field)"
   ]
  },
  {
   "cell_type": "code",
   "execution_count": 50,
   "metadata": {},
   "outputs": [
    {
     "data": {
      "text/plain": [
       "<matplotlib.image.AxesImage at 0x7f6ba91be4d0>"
      ]
     },
     "execution_count": 50,
     "metadata": {},
     "output_type": "execute_result"
    },
    {
     "data": {
      "image/png": "[encoded data removed]",
      "text/plain": [
       "<Figure size 432x288 with 1 Axes>"
      ]
     },
     "metadata": {
      "needs_background": "light"
     },
     "output_type": "display_data"
    }
   ],
   "source": [
    "plt.imshow(durak_game.playing_field.attack_buffer)"
   ]
  },
  {
   "cell_type": "code",
   "execution_count": 51,
   "metadata": {
    "scrolled": true
   },
   "outputs": [
    {
     "name": "stdout",
     "output_type": "stream",
     "text": [
      "--- Card Collection ---\n",
      "Cards: D2,D4,D6,C4,S4,S8.\n",
      "Size: 6\n",
      "-----------------------\n",
      "\n"
     ]
    }
   ],
   "source": [
    "players_on_attack = [p.player_id for p in durak_game.playing_field.players_in_attack()]\n",
    "p_att_idx = players_on_attack[0]\n",
    "print(durak_game.players[p_att_idx].get_deck_from_hand())"
   ]
  },
  {
   "cell_type": "code",
   "execution_count": 52,
   "metadata": {
    "scrolled": false
   },
   "outputs": [
    {
     "name": "stdout",
     "output_type": "stream",
     "text": [
      "--- Card Collection ---\n",
      "Cards: D8,C0,C7,H6,S1,S2.\n",
      "Size: 6\n",
      "-----------------------\n",
      "\n"
     ]
    }
   ],
   "source": [
    "p_def_idx = durak_game.playing_field.player_in_defense().player_id\n",
    "print(durak_game.players[p_def_idx].get_deck_from_hand())"
   ]
  },
  {
   "cell_type": "code",
   "execution_count": 53,
   "metadata": {},
   "outputs": [
    {
     "data": {
      "text/plain": [
       "<matplotlib.image.AxesImage at 0x7f6ba9135090>"
      ]
     },
     "execution_count": 53,
     "metadata": {},
     "output_type": "execute_result"
    },
    {
     "data": {
      "image/png": "[encoded data removed]",
      "text/plain": [
       "<Figure size 432x288 with 1 Axes>"
      ]
     },
     "metadata": {
      "needs_background": "light"
     },
     "output_type": "display_data"
    }
   ],
   "source": [
    "plt.imshow(durak_game.players[p_def_idx].buffer)"
   ]
  },
  {
   "cell_type": "code",
   "execution_count": 54,
   "metadata": {},
   "outputs": [
    {
     "data": {
      "text/plain": [
       "[((0, 4),),\n",
       " ((0, 8),),\n",
       " ((1, 4),),\n",
       " ((3, 2),),\n",
       " ((3, 4),),\n",
       " ((3, 6),),\n",
       " ((0, 4), (1, 4)),\n",
       " ((0, 4), (3, 4)),\n",
       " ((1, 4), (3, 4)),\n",
       " ((0, 4), (1, 4), (3, 4))]"
      ]
     },
     "execution_count": 54,
     "metadata": {},
     "output_type": "execute_result"
    }
   ],
   "source": [
    "attack_moves = durak_game.playing_field.get_legal_moves(p_att_idx)\n",
    "attack_moves"
   ]
  },
  {
   "cell_type": "code",
   "execution_count": 55,
   "metadata": {
    "scrolled": true
   },
   "outputs": [
    {
     "name": "stdout",
     "output_type": "stream",
     "text": [
      "((0, 4), (3, 4))\n"
     ]
    }
   ],
   "source": [
    "random_move = choice(durak_game.playing_field.get_legal_moves(p_att_idx))\n",
    "print(random_move)"
   ]
  },
  {
   "cell_type": "code",
   "execution_count": 56,
   "metadata": {},
   "outputs": [
    {
     "data": {
      "text/plain": [
       "(<Field.DurakField at 0x7f6ba97f69d0>, 0)"
      ]
     },
     "execution_count": 56,
     "metadata": {},
     "output_type": "execute_result"
    }
   ],
   "source": [
    "durak_game.get_next_state(random_move, p_att_idx)"
   ]
  },
  {
   "cell_type": "code",
   "execution_count": 57,
   "metadata": {
    "scrolled": true
   },
   "outputs": [
    {
     "data": {
      "text/plain": [
       "<matplotlib.image.AxesImage at 0x7f6ba9117bd0>"
      ]
     },
     "execution_count": 57,
     "metadata": {},
     "output_type": "execute_result"
    },
    {
     "data": {
      "image/png": "[encoded data removed]",
      "text/plain": [
       "<Figure size 432x288 with 1 Axes>"
      ]
     },
     "metadata": {
      "needs_background": "light"
     },
     "output_type": "display_data"
    }
   ],
   "source": [
    "plt.imshow(durak_game.playing_field.attacks)"
   ]
  },
  {
   "cell_type": "code",
   "execution_count": 58,
   "metadata": {
    "scrolled": false
   },
   "outputs": [
    {
     "data": {
      "text/plain": [
       "<matplotlib.image.AxesImage at 0x7f6ba9080e50>"
      ]
     },
     "execution_count": 58,
     "metadata": {},
     "output_type": "execute_result"
    },
    {
     "data": {
      "image/png": "[encoded data removed]",
      "text/plain": [
       "<Figure size 432x288 with 1 Axes>"
      ]
     },
     "metadata": {
      "needs_background": "light"
     },
     "output_type": "display_data"
    }
   ],
   "source": [
    "plt.imshow(durak_game.players[p_def_idx].hand)"
   ]
  },
  {
   "cell_type": "code",
   "execution_count": 59,
   "metadata": {
    "scrolled": true
   },
   "outputs": [
    {
     "data": {
      "text/plain": [
       "<matplotlib.image.AxesImage at 0x7f6ba8ff3d50>"
      ]
     },
     "execution_count": 59,
     "metadata": {},
     "output_type": "execute_result"
    },
    {
     "data": {
      "image/png": "[encoded data removed]",
      "text/plain": [
       "<Figure size 432x288 with 1 Axes>"
      ]
     },
     "metadata": {
      "needs_background": "light"
     },
     "output_type": "display_data"
    }
   ],
   "source": [
    "player = durak_game.players[p_def_idx]\n",
    "attack_idxs = np.flatnonzero(durak_game.playing_field.attacks)\n",
    "n_vals = durak_game.playing_field.n_vals\n",
    "n_suits = durak_game.playing_field.n_suits\n",
    "nontrump_attack_idxs = attack_idxs[attack_idxs >= n_vals]\n",
    "valid_defenses = np.zeros_like(durak_game.playing_field.field)\n",
    "f = lambda x : (x // n_vals + 1)*n_vals\n",
    "\n",
    "for att_idx in attack_idxs:\n",
    "    valid_defenses[att_idx + 1 : f(att_idx), att_idx] = 1\n",
    "for att_idx in nontrump_attack_idxs:\n",
    "    valid_defenses[:n_vals, att_idx] = 1\n",
    "    \n",
    "if durak_game.playing_field.first_attack:\n",
    "    valid_defenses[att_idx % n_vals : att_idx % n_vals + n_suits*n_vals : n_vals, att_idx] = 1\n",
    "\n",
    "valid_defenses *= player.hand.ravel()[:,np.newaxis]\n",
    "plt.imshow(valid_defenses)"
   ]
  },
  {
   "cell_type": "code",
   "execution_count": 60,
   "metadata": {},
   "outputs": [
    {
     "name": "stdout",
     "output_type": "stream",
     "text": [
      "['ACTION_GIVEUP']\n"
     ]
    }
   ],
   "source": [
    "defend_actions = durak_game.playing_field.get_legal_moves(p_def_idx)\n",
    "print(defend_actions)"
   ]
  },
  {
   "cell_type": "code",
   "execution_count": 61,
   "metadata": {},
   "outputs": [
    {
     "name": "stdout",
     "output_type": "stream",
     "text": [
      "ACTION_GIVEUP\n"
     ]
    }
   ],
   "source": [
    "random_defend = choice(defend_actions)\n",
    "print(random_defend)\n",
    "# random_defend = 'ACTION_GIVEUP'"
   ]
  },
  {
   "cell_type": "code",
   "execution_count": 62,
   "metadata": {
    "scrolled": true
   },
   "outputs": [
    {
     "data": {
      "text/plain": [
       "array([[0, 0, 0, 0, 0, 0, 0, 0, 0],\n",
       "       [0, 0, 0, 0, 0, 0, 0, 0, 0],\n",
       "       [0, 0, 0, 0, 0, 0, 0, 0, 0],\n",
       "       [0, 0, 0, 0, 0, 0, 0, 0, 0]])"
      ]
     },
     "execution_count": 62,
     "metadata": {},
     "output_type": "execute_result"
    }
   ],
   "source": [
    "durak_game.players[p_def_idx].buffer"
   ]
  },
  {
   "cell_type": "code",
   "execution_count": 63,
   "metadata": {
    "scrolled": false
   },
   "outputs": [
    {
     "data": {
      "text/plain": [
       "<matplotlib.image.AxesImage at 0x7f6ba8f5d950>"
      ]
     },
     "execution_count": 63,
     "metadata": {},
     "output_type": "execute_result"
    },
    {
     "data": {
      "image/png": "[encoded data removed]",
      "text/plain": [
       "<Figure size 432x288 with 1 Axes>"
      ]
     },
     "metadata": {
      "needs_background": "light"
     },
     "output_type": "display_data"
    }
   ],
   "source": [
    "durak_game.get_next_state(random_defend, p_def_idx)\n",
    "plt.imshow(durak_game.playing_field.field)"
   ]
  },
  {
   "cell_type": "code",
   "execution_count": 64,
   "metadata": {
    "scrolled": true
   },
   "outputs": [
    {
     "name": "stdout",
     "output_type": "stream",
     "text": [
      "MODE_WAIT\n",
      "MODE_ATTACK\n",
      "MODE_DEFEND\n",
      "MODE_WAIT\n"
     ]
    }
   ],
   "source": [
    "for p in durak_game.players:\n",
    "    print(p.player_mode)"
   ]
  },
  {
   "cell_type": "code",
   "execution_count": 65,
   "metadata": {
    "scrolled": true
   },
   "outputs": [
    {
     "data": {
      "text/plain": [
       "<matplotlib.image.AxesImage at 0x7f6ba8f4b8d0>"
      ]
     },
     "execution_count": 65,
     "metadata": {},
     "output_type": "execute_result"
    },
    {
     "data": {
      "image/png": "[encoded data removed]",
      "text/plain": [
       "<Figure size 432x288 with 1 Axes>"
      ]
     },
     "metadata": {
      "needs_background": "light"
     },
     "output_type": "display_data"
    }
   ],
   "source": [
    "plt.imshow(durak_game.players[p_att_idx].hand)"
   ]
  },
  {
   "cell_type": "code",
   "execution_count": 66,
   "metadata": {},
   "outputs": [
    {
     "data": {
      "text/plain": [
       "<matplotlib.image.AxesImage at 0x7f6ba8ebaad0>"
      ]
     },
     "execution_count": 66,
     "metadata": {},
     "output_type": "execute_result"
    },
    {
     "data": {
      "image/png": "[encoded data removed]",
      "text/plain": [
       "<Figure size 432x288 with 1 Axes>"
      ]
     },
     "metadata": {
      "needs_background": "light"
     },
     "output_type": "display_data"
    }
   ],
   "source": [
    "plt.imshow(durak_game.players[p_def_idx].hand)"
   ]
  },
  {
   "cell_type": "code",
   "execution_count": 67,
   "metadata": {},
   "outputs": [
    {
     "data": {
      "text/plain": [
       "True"
      ]
     },
     "execution_count": 67,
     "metadata": {},
     "output_type": "execute_result"
    }
   ],
   "source": [
    "durak_game.playing_field.field_active"
   ]
  },
  {
   "cell_type": "code",
   "execution_count": null,
   "metadata": {},
   "outputs": [],
   "source": []
  },
  {
   "cell_type": "code",
   "execution_count": null,
   "metadata": {},
   "outputs": [],
   "source": []
  },
  {
   "cell_type": "code",
   "execution_count": null,
   "metadata": {},
   "outputs": [],
   "source": []
  }
 ],
 "metadata": {
  "kernelspec": {
   "display_name": "Python 3",
   "language": "python",
   "name": "python3"
  },
  "language_info": {
   "codemirror_mode": {
    "name": "ipython",
    "version": 3
   },
   "file_extension": ".py",
   "mimetype": "text/x-python",
   "name": "python",
   "nbconvert_exporter": "python",
   "pygments_lexer": "ipython3",
   "version": "3.7.6"
  }
 },
 "nbformat": 4,
 "nbformat_minor": 4
}
