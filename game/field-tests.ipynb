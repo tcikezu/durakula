{
 "cells": [
  {
   "cell_type": "code",
   "execution_count": 1,
   "metadata": {},
   "outputs": [],
   "source": [
    "import numpy as np\n",
    "from itertools import combinations"
   ]
  },
  {
   "cell_type": "code",
   "execution_count": 2,
   "metadata": {},
   "outputs": [
    {
     "data": {
      "text/plain": [
       "<module 'Cards' from '/home/clark/Apps/durakula/game/Cards.py'>"
      ]
     },
     "execution_count": 2,
     "metadata": {},
     "output_type": "execute_result"
    }
   ],
   "source": [
    "from collections import deque\n",
    "from matplotlib import pyplot as plt\n",
    "import Field\n",
    "import Game\n",
    "import Agent\n",
    "import Cards\n",
    "from utils import * \n",
    "from importlib import reload\n",
    "from random import choice, shuffle\n",
    "\n",
    "reload(Field)\n",
    "reload(Game)\n",
    "reload(Agent)\n",
    "reload(Cards)"
   ]
  },
  {
   "cell_type": "code",
   "execution_count": 3,
   "metadata": {},
   "outputs": [],
   "source": [
    "numplayers = 4\n",
    "durak_game = Game.DurakGame(numplayers, 'small')"
   ]
  },
  {
   "cell_type": "code",
   "execution_count": 4,
   "metadata": {},
   "outputs": [
    {
     "name": "stdout",
     "output_type": "stream",
     "text": [
      "MODE_WAIT\n",
      "MODE_ATTACK\n",
      "MODE_DEFEND\n",
      "MODE_WAIT\n"
     ]
    }
   ],
   "source": [
    "for p in durak_game.players:\n",
    "    print(p.player_mode)"
   ]
  },
  {
   "cell_type": "code",
   "execution_count": 5,
   "metadata": {
    "scrolled": false
   },
   "outputs": [
    {
     "name": "stdout",
     "output_type": "stream",
     "text": [
      "--- Playing Field ---\n",
      "Drawing DurakDeck: --- Card Collection ---\n",
      "Cards: D2,S5,D0,S3,D4,H3,D6,C6,S7,D1,H4,H5.\n",
      "Size: 12\n",
      "-----------------------\n",
      "\n",
      "0:--- Card Collection ---\n",
      "Cards: D3,C2,C4,C8,S4,S8.\n",
      "Size: 6\n",
      "-----------------------\n",
      "\n",
      "1:--- Card Collection ---\n",
      "Cards: D7,C1,H0,H1,H7,S0.\n",
      "Size: 6\n",
      "-----------------------\n",
      "\n",
      "2:--- Card Collection ---\n",
      "Cards: C0,C3,C5,H6,S2,S6.\n",
      "Size: 6\n",
      "-----------------------\n",
      "\n",
      "3:--- Card Collection ---\n",
      "Cards: D5,D8,C7,H2,H8,S1.\n",
      "Size: 6\n",
      "-----------------------\n",
      "\n",
      "Trump suit is Hearts\n",
      "---------------------\n",
      "\n"
     ]
    }
   ],
   "source": [
    "print(durak_game.playing_field)"
   ]
  },
  {
   "cell_type": "code",
   "execution_count": 6,
   "metadata": {
    "scrolled": false
   },
   "outputs": [
    {
     "name": "stdout",
     "output_type": "stream",
     "text": [
      "--- Card Collection ---\n",
      "Cards: D7,C1,H0,H1,H7,S0.\n",
      "Size: 6\n",
      "-----------------------\n",
      "\n"
     ]
    }
   ],
   "source": [
    "players_on_attack = [p.player_id for p in durak_game.playing_field.attack_players()]\n",
    "p_att_idx = players_on_attack[0]\n",
    "print(durak_game.players[p_att_idx].get_deck_from_hand())"
   ]
  },
  {
   "cell_type": "code",
   "execution_count": 7,
   "metadata": {
    "scrolled": true
   },
   "outputs": [
    {
     "name": "stdout",
     "output_type": "stream",
     "text": [
      "--- Card Collection ---\n",
      "Cards: C0,C3,C5,H6,S2,S6.\n",
      "Size: 6\n",
      "-----------------------\n",
      "\n"
     ]
    }
   ],
   "source": [
    "p_def_idx = durak_game.playing_field.defend_player().player_id\n",
    "print(durak_game.players[p_def_idx].get_deck_from_hand())"
   ]
  },
  {
   "cell_type": "code",
   "execution_count": 8,
   "metadata": {},
   "outputs": [
    {
     "data": {
      "text/plain": [
       "True"
      ]
     },
     "execution_count": 8,
     "metadata": {},
     "output_type": "execute_result"
    }
   ],
   "source": [
    "durak_game.playing_field.first_attack"
   ]
  },
  {
   "cell_type": "code",
   "execution_count": 9,
   "metadata": {},
   "outputs": [
    {
     "data": {
      "text/plain": [
       "[((0, 0),),\n",
       " ((1, 1),),\n",
       " ((2, 0),),\n",
       " ((2, 1),),\n",
       " ((2, 7),),\n",
       " ((3, 7),),\n",
       " ((0, 0), (2, 0)),\n",
       " ((1, 1), (2, 1)),\n",
       " ((2, 7), (3, 7))]"
      ]
     },
     "execution_count": 9,
     "metadata": {},
     "output_type": "execute_result"
    }
   ],
   "source": [
    "attack_moves = durak_game.playing_field.get_legal_moves(p_att_idx)\n",
    "attack_moves"
   ]
  },
  {
   "cell_type": "code",
   "execution_count": 10,
   "metadata": {},
   "outputs": [
    {
     "name": "stdout",
     "output_type": "stream",
     "text": [
      "((3, 7),)\n"
     ]
    }
   ],
   "source": [
    "random_move = choice(durak_game.playing_field.get_legal_moves(p_att_idx))\n",
    "print(random_move)"
   ]
  },
  {
   "cell_type": "code",
   "execution_count": 11,
   "metadata": {
    "scrolled": true
   },
   "outputs": [
    {
     "data": {
      "text/plain": [
       "<matplotlib.image.AxesImage at 0x7f7b175161d0>"
      ]
     },
     "execution_count": 11,
     "metadata": {},
     "output_type": "execute_result"
    },
    {
     "data": {
      "image/png": "[encoded data removed]",
      "text/plain": [
       "<Figure size 432x288 with 1 Axes>"
      ]
     },
     "metadata": {
      "needs_background": "light"
     },
     "output_type": "display_data"
    }
   ],
   "source": [
    "durak_game.playing_field.execute_move(random_move, p_att_idx)\n",
    "plt.imshow(durak_game.playing_field.attacks)"
   ]
  },
  {
   "cell_type": "code",
   "execution_count": 12,
   "metadata": {
    "scrolled": false
   },
   "outputs": [
    {
     "data": {
      "text/plain": [
       "<matplotlib.image.AxesImage at 0x7f7aecc6c690>"
      ]
     },
     "execution_count": 12,
     "metadata": {},
     "output_type": "execute_result"
    },
    {
     "data": {
      "image/png": "[encoded data removed]",
      "text/plain": [
       "<Figure size 432x288 with 1 Axes>"
      ]
     },
     "metadata": {
      "needs_background": "light"
     },
     "output_type": "display_data"
    }
   ],
   "source": [
    "plt.imshow(durak_game.players[p_def_idx].hand)"
   ]
  },
  {
   "cell_type": "code",
   "execution_count": 13,
   "metadata": {
    "scrolled": true
   },
   "outputs": [],
   "source": [
    "# player = durak_game.players[p_def_idx]\n",
    "# attack_idxs = np.flatnonzero(durak_game.playing_field.attacks)\n",
    "# n_vals = durak_game.playing_field.n_vals\n",
    "# n_suits = durak_game.playing_field.n_suits\n",
    "# nontrump_attack_idxs = attack_idxs[attack_idxs >= n_vals]\n",
    "# valid_defenses = np.zeros_like(durak_game.playing_field.field)\n",
    "# f = lambda x : (x // n_vals + 1)*n_vals\n",
    "\n",
    "# for att_idx in attack_idxs:\n",
    "#     valid_defenses[att_idx + 1 : f(att_idx), att_idx] = 1\n",
    "# for att_idx in nontrump_attack_idxs:\n",
    "#     valid_defenses[:n_vals, att_idx] = 1\n",
    "\n",
    "# if durak_game.playing_field.first_attack:\n",
    "#     valid_defenses[att_idx % n_vals : att_idx % n_vals + n_suits*n_vals : n_vals, att_idx] = 1\n",
    "\n",
    "# valid_defenses *= player.hand.ravel()[:,np.newaxis]\n",
    "# plt.imshow(valid_defenses)"
   ]
  },
  {
   "cell_type": "code",
   "execution_count": 14,
   "metadata": {},
   "outputs": [
    {
     "data": {
      "text/plain": [
       "['ACTION_GIVEUP']"
      ]
     },
     "execution_count": 14,
     "metadata": {},
     "output_type": "execute_result"
    }
   ],
   "source": [
    "valid_defenses = np.zeros_like(durak_game.playing_field.field)\n",
    "durak_game.playing_field.defense_combinations(valid_defenses)"
   ]
  },
  {
   "cell_type": "code",
   "execution_count": 15,
   "metadata": {},
   "outputs": [
    {
     "name": "stdout",
     "output_type": "stream",
     "text": [
      "['ACTION_GIVEUP', ((2, 34),), ((6, 34),)]\n"
     ]
    }
   ],
   "source": [
    "defend_actions = durak_game.playing_field.get_legal_moves(p_def_idx)\n",
    "print(defend_actions)"
   ]
  },
  {
   "cell_type": "code",
   "execution_count": 16,
   "metadata": {},
   "outputs": [
    {
     "name": "stdout",
     "output_type": "stream",
     "text": [
      "((2, 34),)\n"
     ]
    }
   ],
   "source": [
    "random_defend = choice(defend_actions)\n",
    "print(random_defend)"
   ]
  },
  {
   "cell_type": "code",
   "execution_count": 17,
   "metadata": {
    "scrolled": false
   },
   "outputs": [
    {
     "data": {
      "text/plain": [
       "<matplotlib.image.AxesImage at 0x7f7aec1a9550>"
      ]
     },
     "execution_count": 17,
     "metadata": {},
     "output_type": "execute_result"
    },
    {
     "data": {
      "image/png": "[encoded data removed]",
      "text/plain": [
       "<Figure size 432x288 with 1 Axes>"
      ]
     },
     "metadata": {
      "needs_background": "light"
     },
     "output_type": "display_data"
    }
   ],
   "source": [
    "durak_game.get_next_state(random_defend, p_def_idx)\n",
    "plt.imshow(durak_game.playing_field.field)"
   ]
  },
  {
   "cell_type": "code",
   "execution_count": 18,
   "metadata": {
    "scrolled": true
   },
   "outputs": [
    {
     "data": {
      "text/plain": [
       "<matplotlib.image.AxesImage at 0x7f7aec193d90>"
      ]
     },
     "execution_count": 18,
     "metadata": {},
     "output_type": "execute_result"
    },
    {
     "data": {
      "image/png": "[encoded data removed]",
      "text/plain": [
       "<Figure size 432x288 with 1 Axes>"
      ]
     },
     "metadata": {
      "needs_background": "light"
     },
     "output_type": "display_data"
    }
   ],
   "source": [
    "plt.imshow(durak_game.players[p_att_idx].hand)"
   ]
  },
  {
   "cell_type": "code",
   "execution_count": 19,
   "metadata": {},
   "outputs": [
    {
     "data": {
      "text/plain": [
       "<matplotlib.image.AxesImage at 0x7f7aec10b3d0>"
      ]
     },
     "execution_count": 19,
     "metadata": {},
     "output_type": "execute_result"
    },
    {
     "data": {
      "image/png": "[encoded data removed]",
      "text/plain": [
       "<Figure size 432x288 with 1 Axes>"
      ]
     },
     "metadata": {
      "needs_background": "light"
     },
     "output_type": "display_data"
    }
   ],
   "source": [
    "plt.imshow(durak_game.players[p_def_idx].hand)"
   ]
  },
  {
   "cell_type": "code",
   "execution_count": 20,
   "metadata": {},
   "outputs": [
    {
     "data": {
      "text/plain": [
       "1"
      ]
     },
     "execution_count": 20,
     "metadata": {},
     "output_type": "execute_result"
    }
   ],
   "source": [
    "choice(durak_game.playing_field.attack_players()).player_id"
   ]
  },
  {
   "cell_type": "code",
   "execution_count": 21,
   "metadata": {},
   "outputs": [
    {
     "name": "stdout",
     "output_type": "stream",
     "text": [
      "2\n"
     ]
    }
   ],
   "source": [
    "defend_id = durak_game.playing_field.defend_player().player_id\n",
    "print(defend_id)"
   ]
  },
  {
   "cell_type": "code",
   "execution_count": 22,
   "metadata": {},
   "outputs": [],
   "source": [
    "durak_game.players[0].attack()\n",
    "durak_game.players[1].defend()"
   ]
  },
  {
   "cell_type": "code",
   "execution_count": 23,
   "metadata": {},
   "outputs": [
    {
     "name": "stdout",
     "output_type": "stream",
     "text": [
      "2\n"
     ]
    }
   ],
   "source": [
    "print(defend_id)"
   ]
  },
  {
   "cell_type": "code",
   "execution_count": 24,
   "metadata": {},
   "outputs": [
    {
     "data": {
      "text/plain": [
       "array([[1, 1, 1, 1, 1, 1, 1, 1, 1],\n",
       "       [1, 1, 1, 1, 1, 1, 1, 1, 1],\n",
       "       [1, 1, 1, 1, 1, 1, 1, 1, 1],\n",
       "       [1, 1, 1, 1, 1, 1, 1, 1, 1]])"
      ]
     },
     "execution_count": 24,
     "metadata": {},
     "output_type": "execute_result"
    }
   ],
   "source": [
    "d = Cards.DurakDeck()\n",
    "d.cards"
   ]
  },
  {
   "cell_type": "code",
   "execution_count": 25,
   "metadata": {},
   "outputs": [],
   "source": [
    "initial_attack_ids = [p.player_id for p in durak_game.playing_field.attack_players()]"
   ]
  },
  {
   "cell_type": "code",
   "execution_count": 26,
   "metadata": {},
   "outputs": [
    {
     "data": {
      "text/plain": [
       "[3]"
      ]
     },
     "execution_count": 26,
     "metadata": {},
     "output_type": "execute_result"
    }
   ],
   "source": [
    "attack_ids = [p.player_id for p in durak_game.players if p.is_attack() and p.player_id != initial_attack_ids[0]]\n",
    "attack_ids"
   ]
  },
  {
   "cell_type": "code",
   "execution_count": null,
   "metadata": {},
   "outputs": [],
   "source": []
  },
  {
   "cell_type": "code",
   "execution_count": null,
   "metadata": {},
   "outputs": [],
   "source": []
  }
 ],
 "metadata": {
  "kernelspec": {
   "display_name": "Python 3",
   "language": "python",
   "name": "python3"
  },
  "language_info": {
   "codemirror_mode": {
    "name": "ipython",
    "version": 3
   },
   "file_extension": ".py",
   "mimetype": "text/x-python",
   "name": "python",
   "nbconvert_exporter": "python",
   "pygments_lexer": "ipython3",
   "version": "3.7.6"
  }
 },
 "nbformat": 4,
 "nbformat_minor": 4
}
