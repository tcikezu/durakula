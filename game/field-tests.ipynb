{
 "cells": [
  {
   "cell_type": "code",
   "execution_count": 1,
   "metadata": {},
   "outputs": [
    {
     "data": {
      "text/plain": [
       "<module 'Cards' from '/home/clark/Apps/durakula/game/Cards.py'>"
      ]
     },
     "execution_count": 1,
     "metadata": {},
     "output_type": "execute_result"
    }
   ],
   "source": [
    "import Field\n",
    "import Game\n",
    "import Agent\n",
    "import Cards\n",
    "from importlib import reload\n",
    "from random import choice\n",
    "reload(Field)\n",
    "reload(Game)\n",
    "reload(Agent)\n",
    "reload(Cards)"
   ]
  },
  {
   "cell_type": "code",
   "execution_count": 2,
   "metadata": {},
   "outputs": [
    {
     "data": {
      "text/plain": [
       "4"
      ]
     },
     "execution_count": 2,
     "metadata": {},
     "output_type": "execute_result"
    }
   ],
   "source": [
    "numplayers = 4\n",
    "durakGame = Game.DurakGame(numplayers, 'small')\n",
    "durakGame.numPlayers"
   ]
  },
  {
   "cell_type": "code",
   "execution_count": 3,
   "metadata": {},
   "outputs": [
    {
     "name": "stdout",
     "output_type": "stream",
     "text": [
      "--- Playing Field ---\n",
      "Field Deck: \n",
      "--- Card Collection ---\n",
      "Cards: D3,D6,D7,D8,C0,C2,C3,C4,H0,H6,S1,S4.\n",
      "Size: 12\n",
      "-----------------------\n",
      "\n",
      "Player 0:--- Card Collection ---\n",
      "Cards: D1,H1,H4,H7,S5,S8.\n",
      "Size: 6\n",
      "-----------------------\n",
      "\n",
      "Player 1:--- Card Collection ---\n",
      "Cards: D2,D4,C5,H2,H5,S0.\n",
      "Size: 6\n",
      "-----------------------\n",
      "\n",
      "Player 2:--- Card Collection ---\n",
      "Cards: D0,C6,C7,H3,H8,S6.\n",
      "Size: 6\n",
      "-----------------------\n",
      "\n",
      "Player 3:--- Card Collection ---\n",
      "Cards: D5,C1,C8,S2,S3,S7.\n",
      "Size: 6\n",
      "-----------------------\n",
      "\n",
      "Trump suit is Hearts\n",
      "---------------------\n",
      "\n"
     ]
    }
   ],
   "source": [
    "print(durakGame.initField)"
   ]
  },
  {
   "cell_type": "code",
   "execution_count": null,
   "metadata": {},
   "outputs": [],
   "source": []
  }
 ],
 "metadata": {
  "kernelspec": {
   "display_name": "Python 3",
   "language": "python",
   "name": "python3"
  },
  "language_info": {
   "codemirror_mode": {
    "name": "ipython",
    "version": 3
   },
   "file_extension": ".py",
   "mimetype": "text/x-python",
   "name": "python",
   "nbconvert_exporter": "python",
   "pygments_lexer": "ipython3",
   "version": "3.7.6"
  }
 },
 "nbformat": 4,
 "nbformat_minor": 4
}
