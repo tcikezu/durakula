{
 "cells": [
  {
   "cell_type": "code",
   "execution_count": 1,
   "metadata": {},
   "outputs": [],
   "source": [
    "import numpy as np"
   ]
  },
  {
   "cell_type": "code",
   "execution_count": 2,
   "metadata": {},
   "outputs": [
    {
     "data": {
      "text/plain": [
       "<module 'Cards' from '/home/clark/Apps/durakula/game/Cards.py'>"
      ]
     },
     "execution_count": 2,
     "metadata": {},
     "output_type": "execute_result"
    }
   ],
   "source": [
    "from collections import deque\n",
    "from matplotlib import pyplot as plt\n",
    "import Field\n",
    "import Game\n",
    "import Agent\n",
    "import Cards\n",
    "from importlib import reload\n",
    "from random import choice\n",
    "reload(Field)\n",
    "reload(Game)\n",
    "reload(Agent)\n",
    "reload(Cards)"
   ]
  },
  {
   "cell_type": "code",
   "execution_count": 3,
   "metadata": {},
   "outputs": [
    {
     "name": "stdout",
     "output_type": "stream",
     "text": [
      "Diamonds\n"
     ]
    }
   ],
   "source": [
    "numplayers = 4\n",
    "durakGame = Game.DurakGame(numplayers, 'small')\n",
    "trumpSuit = durakGame.playingField.trumpSuit\n",
    "print(trumpSuit)"
   ]
  },
  {
   "cell_type": "code",
   "execution_count": 4,
   "metadata": {
    "scrolled": false
   },
   "outputs": [
    {
     "name": "stdout",
     "output_type": "stream",
     "text": [
      "--- Playing Field ---\n",
      "Drawing Deck: --- Card Collection ---\n",
      "Cards: D0,D2,D3,D6,D7,C0,C3,C6,C7,H3,H6,H8.\n",
      "Size: 12\n",
      "-----------------------\n",
      "\n",
      "Player 0:[[0 0 0 0 0 0 0 0 1]\n",
      " [0 0 1 0 1 0 0 0 1]\n",
      " [0 0 0 0 1 0 0 0 0]\n",
      " [0 0 0 0 1 0 0 0 0]]\n",
      "Player 1:[[0 1 0 0 0 0 0 0 0]\n",
      " [0 0 0 0 0 0 0 0 0]\n",
      " [1 1 1 0 0 0 0 0 0]\n",
      " [0 0 0 1 0 1 0 0 0]]\n",
      "Player 2:[[0 0 0 0 0 0 0 0 0]\n",
      " [0 1 0 0 0 1 0 0 0]\n",
      " [0 0 0 0 0 1 0 1 0]\n",
      " [0 0 0 0 0 0 1 1 0]]\n",
      "Player 3:[[0 0 0 0 1 1 0 0 0]\n",
      " [0 0 0 0 0 0 0 0 0]\n",
      " [0 0 0 0 0 0 0 0 0]\n",
      " [1 1 1 0 0 0 0 0 1]]\n",
      "Trump suit is Diamonds\n",
      "---------------------\n",
      "\n"
     ]
    }
   ],
   "source": [
    "print(durakGame.playingField)"
   ]
  },
  {
   "cell_type": "code",
   "execution_count": 5,
   "metadata": {
    "scrolled": false
   },
   "outputs": [
    {
     "name": "stdout",
     "output_type": "stream",
     "text": [
      "--- Card Collection ---\n",
      "Cards: D8,C2,C4,C8,H4,S4.\n",
      "Size: 6\n",
      "-----------------------\n",
      "\n"
     ]
    }
   ],
   "source": [
    "print(Cards.normal_hand(durakGame.players[0].hand, trumpSuit))"
   ]
  },
  {
   "cell_type": "code",
   "execution_count": 23,
   "metadata": {
    "scrolled": true
   },
   "outputs": [
    {
     "name": "stdout",
     "output_type": "stream",
     "text": [
      "--- Card Collection ---\n",
      "Cards: C1,C5,H5,H7,S6,S7.\n",
      "Size: 6\n",
      "-----------------------\n",
      "\n"
     ]
    }
   ],
   "source": [
    "p_att_idx = durakGame.playingField.playersOnAttack[0]\n",
    "possibleAttacks = [i for i,v in np.ndenumerate(durakGame.playingField.get_legal_moves(p_att_idx)) if v == 1]\n",
    "print(Cards.normal_hand(durakGame.players[p_att_idx].hand, trumpSuit))"
   ]
  },
  {
   "cell_type": "code",
   "execution_count": 24,
   "metadata": {},
   "outputs": [],
   "source": [
    "p_def_idx = durakGame.playingField.playerOnDefense"
   ]
  },
  {
   "cell_type": "code",
   "execution_count": 25,
   "metadata": {},
   "outputs": [
    {
     "name": "stdout",
     "output_type": "stream",
     "text": [
      "attack with: C1\n"
     ]
    }
   ],
   "source": [
    "print('attack with:', Cards.normal_hand(durakGame.players[p_att_idx].hand, trumpSuit)[0])"
   ]
  },
  {
   "cell_type": "code",
   "execution_count": 39,
   "metadata": {},
   "outputs": [
    {
     "data": {
      "text/plain": [
       "<matplotlib.image.AxesImage at 0x7f23234507d0>"
      ]
     },
     "execution_count": 39,
     "metadata": {},
     "output_type": "execute_result"
    },
    {
     "data": {
      "image/png": "[encoded data removed]",
      "text/plain": [
       "<Figure size 432x288 with 1 Axes>"
      ]
     },
     "metadata": {
      "needs_background": "light"
     },
     "output_type": "display_data"
    }
   ],
   "source": [
    "durakGame.playingField.attacks[possibleAttacks[0]] = 1\n",
    "durakGame.playingField.attacks[possibleAttacks[1]] = 1\n",
    "durakGame.playingField.attacks[possibleAttacks[2]] = 1\n",
    "durakGame.playingField.attacks[possibleAttacks[3]] = 1\n",
    "durakGame.playingField.attacks[possibleAttacks[4]] = 1\n",
    "durakGame.playingField.attacks[possibleAttacks[5]] = 1\n",
    "plt.imshow(durakGame.playingField.get_legal_moves(p_def_idx))"
   ]
  },
  {
   "cell_type": "code",
   "execution_count": 13,
   "metadata": {},
   "outputs": [
    {
     "data": {
      "text/plain": [
       "[]"
      ]
     },
     "execution_count": 13,
     "metadata": {},
     "output_type": "execute_result"
    }
   ],
   "source": [
    "attack_idxs = np.flatnonzero(durakGame.playingField.attacks)\n",
    "trump_attack_idxs = [i for i,v in enumerate(attack_idxs) if v < 9]\n",
    "trump_attack_idxs"
   ]
  },
  {
   "cell_type": "code",
   "execution_count": 15,
   "metadata": {},
   "outputs": [
    {
     "name": "stdout",
     "output_type": "stream",
     "text": [
      "--- Card Collection ---\n",
      "Cards: D4,D5,S0,S1,S2,S8.\n",
      "Size: 6\n",
      "-----------------------\n",
      "\n"
     ]
    }
   ],
   "source": [
    "print(Cards.normal_hand(durakGame.players[p_def_idx].hand,trumpSuit))"
   ]
  },
  {
   "cell_type": "code",
   "execution_count": null,
   "metadata": {},
   "outputs": [],
   "source": []
  }
 ],
 "metadata": {
  "kernelspec": {
   "display_name": "Python 3",
   "language": "python",
   "name": "python3"
  },
  "language_info": {
   "codemirror_mode": {
    "name": "ipython",
    "version": 3
   },
   "file_extension": ".py",
   "mimetype": "text/x-python",
   "name": "python",
   "nbconvert_exporter": "python",
   "pygments_lexer": "ipython3",
   "version": "3.7.6"
  }
 },
 "nbformat": 4,
 "nbformat_minor": 4
}
