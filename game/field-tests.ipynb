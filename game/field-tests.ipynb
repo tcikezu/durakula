{
 "cells": [
  {
   "cell_type": "code",
   "execution_count": 1,
   "metadata": {},
   "outputs": [],
   "source": [
    "import numpy as np\n",
    "from itertools import combinations"
   ]
  },
  {
   "cell_type": "code",
   "execution_count": 2,
   "metadata": {},
   "outputs": [
    {
     "data": {
      "text/plain": [
       "<module 'Cards' from '/home/clark/Apps/durakula/game/Cards.py'>"
      ]
     },
     "execution_count": 2,
     "metadata": {},
     "output_type": "execute_result"
    }
   ],
   "source": [
    "from collections import deque\n",
    "from matplotlib import pyplot as plt\n",
    "import Field\n",
    "import Game\n",
    "import Agent\n",
    "import Cards\n",
    "from utils import * \n",
    "from importlib import reload\n",
    "from random import choice, shuffle\n",
    "\n",
    "reload(Field)\n",
    "reload(Game)\n",
    "reload(Agent)\n",
    "reload(Cards)"
   ]
  },
  {
   "cell_type": "code",
   "execution_count": 3,
   "metadata": {},
   "outputs": [],
   "source": [
    "numplayers = 4\n",
    "durak_game = Game.DurakGame(numplayers, 'small')"
   ]
  },
  {
   "cell_type": "code",
   "execution_count": 298,
   "metadata": {
    "scrolled": true
   },
   "outputs": [
    {
     "name": "stdout",
     "output_type": "stream",
     "text": [
      "MODE_ATTACK\n",
      "MODE_ATTACK\n",
      "MODE_ATTACK\n",
      "MODE_DEFEND\n"
     ]
    }
   ],
   "source": [
    "for p in durak_game.players:\n",
    "    print(p.player_mode)"
   ]
  },
  {
   "cell_type": "code",
   "execution_count": 277,
   "metadata": {
    "scrolled": false
   },
   "outputs": [
    {
     "name": "stdout",
     "output_type": "stream",
     "text": [
      "--- Playing Field ---\n",
      "Drawing DurakDeck: --- Card Collection ---\n",
      "Cards: D5.\n",
      "Size: 1\n",
      "-----------------------\n",
      "\n",
      "0:--- Card Collection ---\n",
      "Cards: D2,D4,D7,C2,C8,H0,H1,H4,S8.\n",
      "Size: 9\n",
      "-----------------------\n",
      "\n",
      "1:--- Card Collection ---\n",
      "Cards: D3,C7,H2,H3,H8,S0.\n",
      "Size: 6\n",
      "-----------------------\n",
      "\n",
      "2:--- Card Collection ---\n",
      "Cards: C1,C3,C6,S1,S2,S3.\n",
      "Size: 6\n",
      "-----------------------\n",
      "\n",
      "3:--- Card Collection ---\n",
      "Cards: D0,D1,D6,C0,C4,S4.\n",
      "Size: 6\n",
      "-----------------------\n",
      "\n",
      "Trump suit is Diamonds\n",
      "---------------------\n",
      "\n"
     ]
    }
   ],
   "source": [
    "print(durak_game.playing_field)"
   ]
  },
  {
   "cell_type": "code",
   "execution_count": 278,
   "metadata": {},
   "outputs": [
    {
     "data": {
      "text/plain": [
       "True"
      ]
     },
     "execution_count": 278,
     "metadata": {},
     "output_type": "execute_result"
    }
   ],
   "source": [
    "durak_game.playing_field.first_attack"
   ]
  },
  {
   "cell_type": "code",
   "execution_count": 279,
   "metadata": {
    "scrolled": true
   },
   "outputs": [
    {
     "data": {
      "text/plain": [
       "<matplotlib.image.AxesImage at 0x7f897a872e50>"
      ]
     },
     "execution_count": 279,
     "metadata": {},
     "output_type": "execute_result"
    },
    {
     "data": {
      "image/png": "[encoded data removed]",
      "text/plain": [
       "<Figure size 432x288 with 1 Axes>"
      ]
     },
     "metadata": {
      "needs_background": "light"
     },
     "output_type": "display_data"
    }
   ],
   "source": [
    "plt.imshow(durak_game.playing_field.field)"
   ]
  },
  {
   "cell_type": "code",
   "execution_count": 280,
   "metadata": {},
   "outputs": [
    {
     "data": {
      "text/plain": [
       "<matplotlib.image.AxesImage at 0x7f897a7eb290>"
      ]
     },
     "execution_count": 280,
     "metadata": {},
     "output_type": "execute_result"
    },
    {
     "data": {
      "image/png": "[encoded data removed]",
      "text/plain": [
       "<Figure size 432x288 with 1 Axes>"
      ]
     },
     "metadata": {
      "needs_background": "light"
     },
     "output_type": "display_data"
    }
   ],
   "source": [
    "plt.imshow(durak_game.playing_field.attack_buffer)"
   ]
  },
  {
   "cell_type": "code",
   "execution_count": 281,
   "metadata": {
    "scrolled": true
   },
   "outputs": [
    {
     "name": "stdout",
     "output_type": "stream",
     "text": [
      "--- Card Collection ---\n",
      "Cards: C1,C3,C6,S1,S2,S3.\n",
      "Size: 6\n",
      "-----------------------\n",
      "\n"
     ]
    }
   ],
   "source": [
    "players_on_attack = [p.player_id for p in durak_game.playing_field.attack_players()]\n",
    "p_att_idx = players_on_attack[0]\n",
    "print(durak_game.players[p_att_idx].get_deck_from_hand())"
   ]
  },
  {
   "cell_type": "code",
   "execution_count": 282,
   "metadata": {
    "scrolled": false
   },
   "outputs": [
    {
     "name": "stdout",
     "output_type": "stream",
     "text": [
      "--- Card Collection ---\n",
      "Cards: D0,D1,D6,C0,C4,S4.\n",
      "Size: 6\n",
      "-----------------------\n",
      "\n"
     ]
    }
   ],
   "source": [
    "p_def_idx = durak_game.playing_field.defend_player().player_id\n",
    "print(durak_game.players[p_def_idx].get_deck_from_hand())"
   ]
  },
  {
   "cell_type": "code",
   "execution_count": 283,
   "metadata": {},
   "outputs": [
    {
     "data": {
      "text/plain": [
       "<matplotlib.image.AxesImage at 0x7f897a75e5d0>"
      ]
     },
     "execution_count": 283,
     "metadata": {},
     "output_type": "execute_result"
    },
    {
     "data": {
      "image/png": "[encoded data removed]",
      "text/plain": [
       "<Figure size 432x288 with 1 Axes>"
      ]
     },
     "metadata": {
      "needs_background": "light"
     },
     "output_type": "display_data"
    }
   ],
   "source": [
    "plt.imshow(durak_game.players[p_def_idx].buffer)"
   ]
  },
  {
   "cell_type": "code",
   "execution_count": 284,
   "metadata": {},
   "outputs": [
    {
     "data": {
      "text/plain": [
       "[((0, 1),),\n",
       " ((0, 2),),\n",
       " ((0, 3),),\n",
       " ((1, 1),),\n",
       " ((1, 3),),\n",
       " ((1, 6),),\n",
       " ((0, 1), (1, 1)),\n",
       " ((0, 3), (1, 3))]"
      ]
     },
     "execution_count": 284,
     "metadata": {},
     "output_type": "execute_result"
    }
   ],
   "source": [
    "attack_moves = durak_game.playing_field.get_legal_moves(p_att_idx)\n",
    "attack_moves"
   ]
  },
  {
   "cell_type": "code",
   "execution_count": 285,
   "metadata": {
    "scrolled": true
   },
   "outputs": [
    {
     "name": "stdout",
     "output_type": "stream",
     "text": [
      "((0, 3), (1, 3))\n"
     ]
    }
   ],
   "source": [
    "random_move = choice(durak_game.playing_field.get_legal_moves(p_att_idx))\n",
    "print(random_move)"
   ]
  },
  {
   "cell_type": "code",
   "execution_count": 286,
   "metadata": {},
   "outputs": [
    {
     "data": {
      "text/plain": [
       "(<Field.DurakField at 0x7f89a41f7d90>, 3)"
      ]
     },
     "execution_count": 286,
     "metadata": {},
     "output_type": "execute_result"
    }
   ],
   "source": [
    "durak_game.get_next_state(random_move, p_att_idx)"
   ]
  },
  {
   "cell_type": "code",
   "execution_count": 287,
   "metadata": {
    "scrolled": true
   },
   "outputs": [
    {
     "data": {
      "text/plain": [
       "<matplotlib.image.AxesImage at 0x7f897a74b950>"
      ]
     },
     "execution_count": 287,
     "metadata": {},
     "output_type": "execute_result"
    },
    {
     "data": {
      "image/png": "[encoded data removed]",
      "text/plain": [
       "<Figure size 432x288 with 1 Axes>"
      ]
     },
     "metadata": {
      "needs_background": "light"
     },
     "output_type": "display_data"
    }
   ],
   "source": [
    "plt.imshow(durak_game.playing_field.attacks)"
   ]
  },
  {
   "cell_type": "code",
   "execution_count": 288,
   "metadata": {
    "scrolled": false
   },
   "outputs": [
    {
     "data": {
      "text/plain": [
       "<matplotlib.image.AxesImage at 0x7f897a6bbc10>"
      ]
     },
     "execution_count": 288,
     "metadata": {},
     "output_type": "execute_result"
    },
    {
     "data": {
      "image/png": "[encoded data removed]",
      "text/plain": [
       "<Figure size 432x288 with 1 Axes>"
      ]
     },
     "metadata": {
      "needs_background": "light"
     },
     "output_type": "display_data"
    }
   ],
   "source": [
    "plt.imshow(durak_game.players[p_def_idx].hand)"
   ]
  },
  {
   "cell_type": "code",
   "execution_count": 289,
   "metadata": {
    "scrolled": true
   },
   "outputs": [
    {
     "data": {
      "text/plain": [
       "<matplotlib.image.AxesImage at 0x7f897a638a90>"
      ]
     },
     "execution_count": 289,
     "metadata": {},
     "output_type": "execute_result"
    },
    {
     "data": {
      "image/png": "[encoded data removed]",
      "text/plain": [
       "<Figure size 432x288 with 1 Axes>"
      ]
     },
     "metadata": {
      "needs_background": "light"
     },
     "output_type": "display_data"
    }
   ],
   "source": [
    "player = durak_game.players[p_def_idx]\n",
    "attack_idxs = np.flatnonzero(durak_game.playing_field.attacks)\n",
    "n_vals = durak_game.playing_field.n_vals\n",
    "n_suits = durak_game.playing_field.n_suits\n",
    "nontrump_attack_idxs = attack_idxs[attack_idxs >= n_vals]\n",
    "valid_defenses = np.zeros_like(durak_game.playing_field.field)\n",
    "f = lambda x : (x // n_vals + 1)*n_vals\n",
    "\n",
    "for att_idx in attack_idxs:\n",
    "    valid_defenses[att_idx + 1 : f(att_idx), att_idx] = 1\n",
    "for att_idx in nontrump_attack_idxs:\n",
    "    valid_defenses[:n_vals, att_idx] = 1\n",
    "    \n",
    "if durak_game.playing_field.first_attack:\n",
    "    valid_defenses[att_idx % n_vals : att_idx % n_vals + n_suits*n_vals : n_vals, att_idx] = 1\n",
    "\n",
    "valid_defenses *= player.hand.ravel()[:,np.newaxis]\n",
    "plt.imshow(valid_defenses)"
   ]
  },
  {
   "cell_type": "code",
   "execution_count": 290,
   "metadata": {},
   "outputs": [
    {
     "name": "stdout",
     "output_type": "stream",
     "text": [
      "['ACTION_GIVEUP', ((4, 3), (13, 12))]\n"
     ]
    }
   ],
   "source": [
    "defend_actions = durak_game.playing_field.get_legal_moves(p_def_idx)\n",
    "print(defend_actions)"
   ]
  },
  {
   "cell_type": "code",
   "execution_count": 291,
   "metadata": {},
   "outputs": [
    {
     "name": "stdout",
     "output_type": "stream",
     "text": [
      "((4, 3), (13, 12))\n"
     ]
    }
   ],
   "source": [
    "random_defend = choice(defend_actions)\n",
    "print(random_defend)\n",
    "# random_defend = 'ACTION_GIVEUP'"
   ]
  },
  {
   "cell_type": "code",
   "execution_count": 292,
   "metadata": {},
   "outputs": [
    {
     "data": {
      "text/plain": [
       "array([[0, 0, 0, 0, 0, 0, 0, 0, 0],\n",
       "       [0, 0, 0, 0, 0, 0, 0, 0, 0],\n",
       "       [0, 0, 0, 0, 0, 0, 0, 0, 0],\n",
       "       [0, 0, 0, 0, 0, 0, 0, 0, 0]])"
      ]
     },
     "execution_count": 292,
     "metadata": {},
     "output_type": "execute_result"
    }
   ],
   "source": [
    "durak_game.players[p_def_idx].buffer"
   ]
  },
  {
   "cell_type": "code",
   "execution_count": 293,
   "metadata": {
    "scrolled": false
   },
   "outputs": [
    {
     "data": {
      "text/plain": [
       "<matplotlib.image.AxesImage at 0x7f897a5a6510>"
      ]
     },
     "execution_count": 293,
     "metadata": {},
     "output_type": "execute_result"
    },
    {
     "data": {
      "image/png": "[encoded data removed]",
      "text/plain": [
       "<Figure size 432x288 with 1 Axes>"
      ]
     },
     "metadata": {
      "needs_background": "light"
     },
     "output_type": "display_data"
    }
   ],
   "source": [
    "durak_game.get_next_state(random_defend, p_def_idx)\n",
    "plt.imshow(durak_game.playing_field.field)"
   ]
  },
  {
   "cell_type": "code",
   "execution_count": 294,
   "metadata": {
    "scrolled": true
   },
   "outputs": [
    {
     "name": "stdout",
     "output_type": "stream",
     "text": [
      "MODE_ATTACK\n",
      "MODE_ATTACK\n",
      "MODE_ATTACK\n",
      "MODE_DEFEND\n"
     ]
    }
   ],
   "source": [
    "for p in durak_game.players:\n",
    "    print(p.player_mode)"
   ]
  },
  {
   "cell_type": "code",
   "execution_count": 295,
   "metadata": {
    "scrolled": true
   },
   "outputs": [
    {
     "data": {
      "text/plain": [
       "<matplotlib.image.AxesImage at 0x7f897a510950>"
      ]
     },
     "execution_count": 295,
     "metadata": {},
     "output_type": "execute_result"
    },
    {
     "data": {
      "image/png": "[encoded data removed]",
      "text/plain": [
       "<Figure size 432x288 with 1 Axes>"
      ]
     },
     "metadata": {
      "needs_background": "light"
     },
     "output_type": "display_data"
    }
   ],
   "source": [
    "plt.imshow(durak_game.players[p_att_idx].hand)"
   ]
  },
  {
   "cell_type": "code",
   "execution_count": 296,
   "metadata": {},
   "outputs": [
    {
     "data": {
      "text/plain": [
       "<matplotlib.image.AxesImage at 0x7f897a500950>"
      ]
     },
     "execution_count": 296,
     "metadata": {},
     "output_type": "execute_result"
    },
    {
     "data": {
      "image/png": "[encoded data removed]",
      "text/plain": [
       "<Figure size 432x288 with 1 Axes>"
      ]
     },
     "metadata": {
      "needs_background": "light"
     },
     "output_type": "display_data"
    }
   ],
   "source": [
    "plt.imshow(durak_game.players[p_def_idx].hand)"
   ]
  },
  {
   "cell_type": "code",
   "execution_count": 297,
   "metadata": {},
   "outputs": [
    {
     "data": {
      "text/plain": [
       "True"
      ]
     },
     "execution_count": 297,
     "metadata": {},
     "output_type": "execute_result"
    }
   ],
   "source": [
    "durak_game.playing_field.field_active"
   ]
  },
  {
   "cell_type": "code",
   "execution_count": null,
   "metadata": {},
   "outputs": [],
   "source": []
  },
  {
   "cell_type": "code",
   "execution_count": null,
   "metadata": {},
   "outputs": [],
   "source": []
  },
  {
   "cell_type": "code",
   "execution_count": null,
   "metadata": {},
   "outputs": [],
   "source": []
  },
  {
   "cell_type": "code",
   "execution_count": null,
   "metadata": {},
   "outputs": [],
   "source": []
  },
  {
   "cell_type": "code",
   "execution_count": null,
   "metadata": {},
   "outputs": [],
   "source": []
  }
 ],
 "metadata": {
  "kernelspec": {
   "display_name": "Python 3",
   "language": "python",
   "name": "python3"
  },
  "language_info": {
   "codemirror_mode": {
    "name": "ipython",
    "version": 3
   },
   "file_extension": ".py",
   "mimetype": "text/x-python",
   "name": "python",
   "nbconvert_exporter": "python",
   "pygments_lexer": "ipython3",
   "version": "3.7.6"
  }
 },
 "nbformat": 4,
 "nbformat_minor": 4
}
